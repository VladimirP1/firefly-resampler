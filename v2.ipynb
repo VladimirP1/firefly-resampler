{
 "cells": [
  {
   "cell_type": "code",
   "execution_count": null,
   "metadata": {},
   "outputs": [],
   "source": [
    "import numpy as np\n",
    "import pandas as pd\n",
    "import matplotlib.pyplot as plt\n",
    "import scipy.interpolate as spi\n",
    "import scipy.signal as ssi\n",
    "from numpy.lib.stride_tricks import sliding_window_view\n",
    "import scipy.io.wavfile\n",
    "import camio"
   ]
  },
  {
   "cell_type": "code",
   "execution_count": null,
   "metadata": {},
   "outputs": [],
   "source": [
    "hawk_data = camio.read_hawk(\"//yak-dev0/public/tmp/fpv-firefly-rsgo/034558AA.CSV\")\n",
    "\n",
    "hawk_data = hawk_data[:,np.searchsorted(hawk_data[0], 180+33):np.searchsorted(hawk_data[0], 200+33)]\n",
    "# hawk_data = hawk_data[:,np.searchsorted(hawk_data[0], 33):np.searchsorted(hawk_data[0], 35)]"
   ]
  },
  {
   "cell_type": "code",
   "execution_count": null,
   "metadata": {},
   "outputs": [],
   "source": [
    "freq_min = 300\n",
    "freq_max = 480\n",
    "freq_step = 1\n",
    "phase_step = 2 * np.pi / 15\n",
    "ampl_min = 0\n",
    "ampl_max = .3\n",
    "ampl_step = .001\n",
    "ampl_initial = .02\n",
    "\n",
    "def dynamic_filter(ts, ds):\n",
    "    freqs = np.expand_dims(np.arange(freq_min, freq_max, freq_step), (1,2))\n",
    "    # print(freqs.shape)\n",
    "    phases =  np.expand_dims(np.arange(0, 2 * np.pi, phase_step),(0,2))\n",
    "    # print(phases.shape)\n",
    "    datas = np.expand_dims(ts, (0,1))\n",
    "    # print(datas.shape)\n",
    "    sines = np.sin(2 * np.pi * freqs * datas + phases) * ampl_initial\n",
    "    # print(sines.shape)\n",
    "    values = np.expand_dims(ds, (0,1))\n",
    "    # print(values.shape)\n",
    "    img = np.sum((np.diff(sines) - np.diff(values))**2, axis=2)\n",
    "    # print(img.shape)\n",
    "\n",
    "    best = np.unravel_index(np.argmin(img), img.shape)\n",
    "    best_freq, best_phase = best[0] * freq_step + freq_min, best[1] * phase_step\n",
    "\n",
    "    # plt.figure(figsize=(20,20))\n",
    "    # plt.imshow(img.T, origin='lower', extent=(freq_min, freq_max, 0, 2 * np.pi))\n",
    "    # plt.show()\n",
    "\n",
    "    # plt.figure(figsize=(20,5))\n",
    "    # plt.plot(ts], ds)\n",
    "    # plt.plot(ts, sines[best[0], best[1]])\n",
    "    # plt.show()\n",
    "\n",
    "    amplitudes = np.expand_dims(np.arange(ampl_min, ampl_max, ampl_step), 1)\n",
    "    # print(amplitudes.shape)\n",
    "    sines = np.sin(2 * np.pi * best_freq * ts + best_phase) * amplitudes\n",
    "    # print(sines.shape)\n",
    "    values = np.expand_dims(ds, 0)\n",
    "    # print(values.shape)\n",
    "    img = np.sum((np.diff(sines) - np.diff(values))**2, axis=1)\n",
    "    img.shape\n",
    "\n",
    "    best = np.argmin(img)\n",
    "    best_ampl = best * ampl_step + ampl_min\n",
    "\n",
    "    if best_ampl > .01:\n",
    "        print(best_freq, best_phase, best_ampl)\n",
    "\n",
    "    plt.figure(figsize=(20,5))\n",
    "    plt.plot(ts, ds)\n",
    "    plt.plot(ts, sines[best])\n",
    "    plt.show()\n",
    "\n",
    "    # plt.figure(figsize=(20,5))\n",
    "    # plt.plot(ts, ds - sines[best])\n",
    "    # plt.show()\n",
    "\n",
    "    return ds - sines[best] + np.mean(sines[best])\n",
    "\n",
    "def dynamic_filter_n(ts, ds, n = 4):\n",
    "    for i in range(n):\n",
    "        ds = dynamic_filter(ts, ds)\n",
    "    return ds\n",
    "\n",
    "def remove_spikes(ds):\n",
    "    ds2 = ds.copy()\n",
    "\n",
    "    percentile = 95\n",
    "    window_size = 10\n",
    "    means = np.mean(sliding_window_view(ds, window_size), axis=1)\n",
    "    errors =  (means - ds[:-(window_size-1)])**2\n",
    "    tresh = np.percentile(errors, percentile)\n",
    "    indicies = np.nonzero(errors > tresh)\n",
    "    ds2[indicies] = means[indicies]\n",
    "\n",
    "    return ds2\n"
   ]
  },
  {
   "cell_type": "code",
   "execution_count": null,
   "metadata": {},
   "outputs": [],
   "source": [
    "chunk_size = 50\n",
    "\n",
    "for i in range(len(hawk_data[0]) // chunk_size):\n",
    "    print(100 * i / (len(hawk_data[0]) // chunk_size))\n",
    "    start_i = chunk_size * i\n",
    "    end_i = chunk_size * (i + 1)\n",
    "    hawk_data[1,start_i:end_i] = dynamic_filter_n(hawk_data[0,start_i:end_i], hawk_data[1,start_i:end_i])\n",
    "    hawk_data[2,start_i:end_i] = dynamic_filter_n(hawk_data[0,start_i:end_i], hawk_data[2,start_i:end_i])\n",
    "    hawk_data[3,start_i:end_i] = dynamic_filter_n(hawk_data[0,start_i:end_i], hawk_data[3,start_i:end_i])\n",
    "\n",
    "hawk_data[1] = remove_spikes(hawk_data[1])\n",
    "hawk_data[2] = remove_spikes(hawk_data[2])\n",
    "hawk_data[3] = remove_spikes(hawk_data[3])\n",
    "\n",
    "dt = 1/1000\n",
    "new_ts = np.arange(hawk_data[0][0], hawk_data[0][-1], dt)\n",
    "new_x = np.interp(new_ts, hawk_data[0], hawk_data[1])\n",
    "new_y = np.interp(new_ts, hawk_data[0], hawk_data[2])\n",
    "new_z = np.interp(new_ts, hawk_data[0], hawk_data[3])\n",
    "\n",
    "new_data = np.vstack((new_ts, new_x, new_y, new_z))\n",
    "\n"
   ]
  },
  {
   "cell_type": "code",
   "execution_count": null,
   "metadata": {},
   "outputs": [],
   "source": [
    "plt.figure(figsize=(20,5))\n",
    "#plt.xlim(215,217)\n",
    "plt.ylim(-1,1)\n",
    "plt.plot(hawk_data[0], hawk_data[2], '-')\n",
    "#plt.plot(hawk_data[0,:-9], np.mean(sliding_window_view(hawk_data[2], 10), axis=1), '-')\n",
    "plt.show()\n",
    "\n"
   ]
  },
  {
   "cell_type": "code",
   "execution_count": null,
   "metadata": {},
   "outputs": [],
   "source": [
    "np.mean(sliding_window_view(hawk_data[0], 10), axis=1)"
   ]
  },
  {
   "cell_type": "code",
   "execution_count": null,
   "metadata": {},
   "outputs": [],
   "source": [
    "hawk_data2 = camio.read_hawk(\"//yak-dev0/public/tmp/fpv-firefly-rsgo/034558AA.CSV\")\n",
    "\n",
    "plt.figure(figsize=(20,5))\n",
    "plt.xlim(148,150)\n",
    "plt.ylim(-1,1)\n",
    "plt.plot(hawk_data2[0], hawk_data2[1], '-')\n",
    "plt.show()"
   ]
  },
  {
   "cell_type": "code",
   "execution_count": null,
   "metadata": {},
   "outputs": [],
   "source": [
    "plt.specgram(new_x, Fs=1000)"
   ]
  },
  {
   "cell_type": "code",
   "execution_count": null,
   "metadata": {},
   "outputs": [],
   "source": []
  }
 ],
 "metadata": {
  "interpreter": {
   "hash": "53a16707d94c114ea3fb7fcbcd5d19cfd9d6dcc56b99e64ea172f91c892e5289"
  },
  "kernelspec": {
   "display_name": "Python 3.9.8 64-bit ('_venv_': venv)",
   "language": "python",
   "name": "python3"
  },
  "language_info": {
   "codemirror_mode": {
    "name": "ipython",
    "version": 3
   },
   "file_extension": ".py",
   "mimetype": "text/x-python",
   "name": "python",
   "nbconvert_exporter": "python",
   "pygments_lexer": "ipython3",
   "version": "3.9.8"
  },
  "orig_nbformat": 4
 },
 "nbformat": 4,
 "nbformat_minor": 2
}
